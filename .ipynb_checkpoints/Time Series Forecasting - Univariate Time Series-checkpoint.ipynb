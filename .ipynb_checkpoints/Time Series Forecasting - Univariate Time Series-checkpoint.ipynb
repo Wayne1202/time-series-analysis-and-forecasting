{
 "cells": [
  {
   "cell_type": "code",
   "execution_count": 1,
   "id": "865cbc3c",
   "metadata": {},
   "outputs": [],
   "source": [
    "import pandas as pd\n",
    "import yfinance as yf\n",
    "import matplotlib.pyplot as plt\n",
    "import plotly.express as px\n",
    "import numpy as np"
   ]
  },
  {
   "cell_type": "markdown",
   "id": "1e3671b9",
   "metadata": {},
   "source": [
    "## Import data from yfinance\n",
    "\n",
    "Yfinance api provides flexibility and convenience for us to query stock price easily. Here we have pick up AAPL, which is our most famous stock, APPLE.\n",
    "\n",
    "Here we extract weekly stock price of AAPL for period of 5 years."
   ]
  },
  {
   "cell_type": "code",
   "execution_count": 2,
   "id": "8305646d",
   "metadata": {},
   "outputs": [],
   "source": [
    "price_history = yf.Ticker('AAPL').history(period='5y', # valid periods: 1d,5d,1mo,3mo,6mo,1y,2y,5y,10y,ytd,max\n",
    "                                   interval='1wk', # valid intervals: 1m,2m,5m,15m,30m,60m,90m,1h,1d,5d,1wk,1mo,3mo\n",
    "                                   actions=False)"
   ]
  },
  {
   "cell_type": "code",
   "execution_count": 3,
   "id": "53741e78",
   "metadata": {},
   "outputs": [],
   "source": [
    "df = price_history[['Open']]"
   ]
  },
  {
   "cell_type": "markdown",
   "id": "dfafb0d7",
   "metadata": {},
   "source": [
    "## Time Series Forecasting Techniques\n",
    "\n",
    "Here we will apply various forecasting techniques to forecast the stock price."
   ]
  },
  {
   "cell_type": "code",
   "execution_count": 4,
   "id": "e09a497d",
   "metadata": {},
   "outputs": [],
   "source": [
    "%matplotlib inline\n",
    "from pylab import rcParams\n",
    "import statsmodels.api as sm\n",
    "from numpy.random import normal, seed\n",
    "from scipy.stats import norm\n",
    "from statsmodels.tsa.statespace.sarimax import SARIMAX\n",
    "from statsmodels.tsa.ar_model import AutoReg\n",
    "from statsmodels.tsa.arima_model import ARMA, ARIMA\n",
    "from statsmodels.tsa.vector_ar.var_model import VAR\n",
    "from statsmodels.tsa.statespace.varmax import VARMAX\n",
    "from statsmodels.tsa.holtwinters import SimpleExpSmoothing, Holt, ExponentialSmoothing\n",
    "# from fbprophet import Prophet\n",
    "import math\n",
    "from sklearn.metrics import mean_squared_error\n",
    "from random import random\n",
    "import datetime"
   ]
  },
  {
   "cell_type": "code",
   "execution_count": 5,
   "id": "c323bb73",
   "metadata": {},
   "outputs": [],
   "source": [
    "split = 0.7\n",
    "train,test = df[0:int(len(df)*split)],df[int(len(df)*split):]"
   ]
  },
  {
   "cell_type": "markdown",
   "id": "753a17f8",
   "metadata": {},
   "source": [
    "from statsmodels.graphics.tsaplots import plot_acf,plot_pacf\n",
    "df_differenced = df_differenced.dropna()\n",
    "plot_acf(df_differenced,lags = 30)\n",
    "plot_pacf(df_differenced,lags = 3)"
   ]
  }
 ],
 "metadata": {
  "kernelspec": {
   "display_name": "Python 3.6 (tensorflow)",
   "language": "python",
   "name": "tensorflow"
  },
  "language_info": {
   "codemirror_mode": {
    "name": "ipython",
    "version": 3
   },
   "file_extension": ".py",
   "mimetype": "text/x-python",
   "name": "python",
   "nbconvert_exporter": "python",
   "pygments_lexer": "ipython3",
   "version": "3.9.13"
  }
 },
 "nbformat": 4,
 "nbformat_minor": 5
}
